{
 "cells": [
  {
   "cell_type": "code",
   "execution_count": 1,
   "metadata": {},
   "outputs": [],
   "source": [
    "#necesarry imports\n",
    "import csv\n",
    "import pandas as pd\n",
    "import numpy as np\n",
    "import string\n",
    "%matplotlib inline\n",
    "\n",
    "import gensim\n",
    "import os\n",
    "import json\n",
    "import matplotlib.pyplot as plt\n",
    "\n",
    "import spotipy\n",
    "from spotipy.oauth2 import SpotifyClientCredentials\n",
    "import spotipy.util as util\n",
    "import sys"
   ]
  },
  {
   "cell_type": "code",
   "execution_count": 2,
   "metadata": {},
   "outputs": [],
   "source": [
    "trackDF = pd.read_csv(\"labeled_lyrics_cleaned.csv\") #read in our primary data source"
   ]
  },
  {
   "cell_type": "code",
   "execution_count": 3,
   "metadata": {},
   "outputs": [],
   "source": [
    "auth = SpotifyClientCredentials(client_id= \"b00d76d143704e85a7514c593e74e5c8\", \n",
    "                                client_secret=\"819657134bef43ca8be863963090d73f\")\n",
    "\n",
    "urn = 'spotify:artist:3jOstUTkEu2JkjvRdBA5Gu'\n",
    "sp = spotipy.Spotify(client_credentials_manager = auth)\n",
    "\n",
    "def genreType(name): #only used if user decides to make own genre.json instead of downloading provided json\n",
    "    results = sp.search(q='artist:' + name, type='artist')\n",
    "    return results[\"artists\"][\"items\"][0][\"genres\"]"
   ]
  },
  {
   "cell_type": "code",
   "execution_count": 4,
   "metadata": {},
   "outputs": [],
   "source": [
    "if (os.path.exists(\"genre.json\")): #if genre.json is downloaded and avaliable, use it\n",
    "    with open('genre.json') as json_data:\n",
    "        data = json.load(json_data)\n",
    "else: #otherwise create own genre.json using Spotify API \n",
    "    artists = list(set(trackDF[\"artist\"]))\n",
    "\n",
    "    genreDict = {}\n",
    "    for idx, art in enumerate(artists):\n",
    "        sys.stdout.write(f\"{idx +1} / {len(artists)}\\n\")\n",
    "        try:\n",
    "            genre = genreType(art)\n",
    "            genreDict[art] = genre\n",
    "        except IndexError:\n",
    "            genreDict[art] = []  \n",
    "    with open(\"genre.json\", \"w\") as outfile:\n",
    "        json.dump(genreDict, outfile)"
   ]
  },
  {
   "cell_type": "code",
   "execution_count": 5,
   "metadata": {},
   "outputs": [],
   "source": [
    "#Cleaning data to be able to merge artist with genre\n",
    "values = list(data.values())\n",
    "keys = list(data.keys())\n",
    "finalDict = {}\n",
    "for i,v in enumerate(keys):\n",
    "    finalDict[v] = [values[i]]\n",
    "finalDict = pd.DataFrame(finalDict)\n",
    "finalDict = finalDict.T\n",
    "\n",
    "finalDict.columns = ['genre']\n",
    "finalDict = finalDict.reset_index()\n",
    "finalDict = finalDict.rename(columns = {\"index\": \"artist\"})\n",
    "\n",
    "final = pd.merge(trackDF, finalDict, on = \"artist\", how = \"left\")"
   ]
  },
  {
   "cell_type": "code",
   "execution_count": 6,
   "metadata": {},
   "outputs": [],
   "source": [
    "#helper methods to enable separating dataframes by genre\n",
    "def rockCheck(genre):\n",
    "    if \"rock\" in genre:\n",
    "        return True\n",
    "    else:\n",
    "        return False\n",
    "    \n",
    "def popCheck(genre):\n",
    "    if \"pop\" in genre:\n",
    "        return True\n",
    "    else:\n",
    "        return False\n",
    "    \n",
    "def rapCheck(genre):\n",
    "    if \"rap\" in genre:\n",
    "        return True\n",
    "    elif \"r&b\" in genre:\n",
    "        return True\n",
    "    else:\n",
    "        return False\n",
    "    \n",
    "def countryCheck(genre):\n",
    "    if \"country\" in genre:\n",
    "        return True\n",
    "    else:\n",
    "        return False"
   ]
  },
  {
   "cell_type": "code",
   "execution_count": 7,
   "metadata": {},
   "outputs": [],
   "source": [
    "#using helper methdods to create dataframes for each genre\n",
    "final[\"rock\"] = final.genre.apply(rockCheck)\n",
    "rockDF = final[final[\"rock\"] == True]\n",
    "\n",
    "final[\"pop\"] = final.genre.apply(popCheck)\n",
    "popDF = final[final[\"pop\"] == True]\n",
    "\n",
    "final[\"rap\"] = final.genre.apply(rapCheck)\n",
    "rapDF = final[final[\"rap\"] == True]\n",
    "\n",
    "final[\"country\"] = final.genre.apply(countryCheck)\n",
    "countryDF = final[final[\"country\"] == True]"
   ]
  },
  {
   "cell_type": "code",
   "execution_count": 17,
   "metadata": {},
   "outputs": [
    {
     "data": {
      "text/plain": [
       "(5897685, 7987525)"
      ]
     },
     "execution_count": 17,
     "metadata": {},
     "output_type": "execute_result"
    }
   ],
   "source": [
    "countrySongs = countryDF.seq.apply(gensim.utils.simple_preprocess) #tokenizing and removing stop words for corpus\n",
    "\n",
    "countryModel = gensim.models.Word2Vec( #model architecture\n",
    "    window = 10,\n",
    "    min_count = 2,\n",
    "    workers = 2,\n",
    "    sg = 1\n",
    "    )\n",
    "\n",
    "countryModel.build_vocab(countrySongs, progress_per = 1000)\n",
    "countryModel.train(countrySongs, total_examples = countryModel.corpus_count, epochs = countryModel.epochs)"
   ]
  },
  {
   "cell_type": "code",
   "execution_count": 9,
   "metadata": {},
   "outputs": [
    {
     "name": "stdout",
     "output_type": "stream",
     "text": [
      "18609\n"
     ]
    },
    {
     "data": {
      "text/plain": [
       "(13379529, 18153560)"
      ]
     },
     "execution_count": 9,
     "metadata": {},
     "output_type": "execute_result"
    }
   ],
   "source": [
    "rockSongs = rockDF.seq.apply(gensim.utils.simple_preprocess)\n",
    "\n",
    "rockModel = gensim.models.Word2Vec(\n",
    "    window = 10,\n",
    "    min_count = 2,\n",
    "    workers = 2,\n",
    "    sg = 1\n",
    "    )\n",
    "\n",
    "rockModel.build_vocab(rockSongs, progress_per = 1000)\n",
    "rockModel.train(rockSongs, total_examples = rockModel.corpus_count, epochs = rockModel.epochs)"
   ]
  },
  {
   "cell_type": "code",
   "execution_count": 10,
   "metadata": {},
   "outputs": [
    {
     "name": "stdout",
     "output_type": "stream",
     "text": [
      "4891\n"
     ]
    },
    {
     "data": {
      "text/plain": [
       "(5029355, 7143005)"
      ]
     },
     "execution_count": 10,
     "metadata": {},
     "output_type": "execute_result"
    }
   ],
   "source": [
    "popSongs = popDF.seq.apply(gensim.utils.simple_preprocess)\n",
    "\n",
    "popModel = gensim.models.Word2Vec(\n",
    "    window = 10,\n",
    "    min_count = 2,\n",
    "    workers = 2,\n",
    "    sg = 1\n",
    "    )\n",
    "\n",
    "popModel.build_vocab(popSongs, progress_per = 1000)\n",
    "popModel.train(popSongs, total_examples = popModel.corpus_count, epochs = popModel.epochs)"
   ]
  },
  {
   "cell_type": "code",
   "execution_count": 11,
   "metadata": {},
   "outputs": [
    {
     "name": "stdout",
     "output_type": "stream",
     "text": [
      "9115\n"
     ]
    },
    {
     "data": {
      "text/plain": [
       "(13825877, 18654550)"
      ]
     },
     "execution_count": 11,
     "metadata": {},
     "output_type": "execute_result"
    }
   ],
   "source": [
    "rapSongs = rapDF.seq.apply(gensim.utils.simple_preprocess)\n",
    "\n",
    "rapModel = gensim.models.Word2Vec(\n",
    "    window = 10,\n",
    "    min_count = 2,\n",
    "    workers = 2,\n",
    "    sg = 1\n",
    "    )\n",
    "\n",
    "rapModel.build_vocab(rapSongs, progress_per = 1000)\n",
    "rapModel.train(rapSongs, total_examples = rapModel.corpus_count, epochs = rapModel.epochs)"
   ]
  },
  {
   "cell_type": "code",
   "execution_count": 12,
   "metadata": {},
   "outputs": [
    {
     "name": "stdout",
     "output_type": "stream",
     "text": [
      "158353\n"
     ]
    },
    {
     "data": {
      "text/plain": [
       "(122265531, 164501950)"
      ]
     },
     "execution_count": 12,
     "metadata": {},
     "output_type": "execute_result"
    }
   ],
   "source": [
    "allSongs = final.seq.apply(gensim.utils.simple_preprocess)\n",
    "\n",
    "allModel = gensim.models.Word2Vec(\n",
    "    window = 10,\n",
    "    min_count = 2,\n",
    "    workers = 2,\n",
    "    sg = 1\n",
    "    )\n",
    "\n",
    "allModel.build_vocab(allSongs, progress_per = 1000)\n",
    "allModel.train(allSongs, total_examples = allModel.corpus_count, epochs = allModel.epochs)"
   ]
  },
  {
   "cell_type": "code",
   "execution_count": 18,
   "metadata": {},
   "outputs": [],
   "source": [
    "#Using model to find similarities between words for different genres\n",
    "word1 = \"gay\"\n",
    "word2 = \"hate\"\n",
    "models = [allModel, countryModel, rapModel, popModel, rockModel]\n",
    "model_names = [\"All Songs\", \"Country\", \"Rap\", \"Pop\", \"Rock\"]\n",
    "simDict = {}\n",
    "\n",
    "\n",
    "for model, name in zip(models, model_names):\n",
    "    simDict[name] = model.wv.similarity(w1 = word1, w2 = word2)"
   ]
  },
  {
   "cell_type": "code",
   "execution_count": 19,
   "metadata": {},
   "outputs": [
    {
     "data": {
      "image/png": "[encoded data removed]",
      "text/plain": [
       "<Figure size 432x288 with 1 Axes>"
      ]
     },
     "metadata": {
      "needs_background": "light"
     },
     "output_type": "display_data"
    }
   ],
   "source": [
    "#Creation of graph\n",
    "plt.bar(*zip(*simDict.items())) \n",
    "plt.title(\"Similarity Between \\'Gay\\' and \\'Hate\\' by Genre\")\n",
    "plt.xlabel('Genre')\n",
    "plt.ylabel('Cosine Similarity')\n",
    "#plt.savefig('Gay-Hate4.png')\n",
    "plt.show()"
   ]
  },
  {
   "cell_type": "code",
   "execution_count": 15,
   "metadata": {},
   "outputs": [
    {
     "data": {
      "text/plain": [
       "['All Songs',\n",
       " [('cops', 0.7425271272659302),\n",
       "  ('coppers', 0.6914712190628052),\n",
       "  ('officers', 0.6725534200668335),\n",
       "  ('hakim', 0.6373288631439209),\n",
       "  ('officer', 0.6367425322532654)],\n",
       " 'Country',\n",
       " [('wham', 0.7868948578834534),\n",
       "  ('milly', 0.7686740756034851),\n",
       "  ('emergency', 0.7600117921829224),\n",
       "  ('farmhouse', 0.7503462433815002),\n",
       "  ('sheriff', 0.7434771060943604)],\n",
       " 'Rap',\n",
       " [('badge', 0.7038032412528992),\n",
       "  ('witout', 0.6822806000709534),\n",
       "  ('cops', 0.6011911034584045),\n",
       "  ('officer', 0.5982850790023804),\n",
       "  ('monsters', 0.5866937637329102)],\n",
       " 'Pop',\n",
       " [('popped', 0.7332776784896851),\n",
       "  ('duck', 0.7328423857688904),\n",
       "  ('dogs', 0.7269009947776794),\n",
       "  ('offered', 0.7127363085746765),\n",
       "  ('homies', 0.7087993025779724)],\n",
       " 'Rock',\n",
       " [('cops', 0.6596987247467041),\n",
       "  ('sloan', 0.5873602628707886),\n",
       "  ('slammed', 0.5779464244842529),\n",
       "  ('jables', 0.5770602822303772),\n",
       "  ('workers', 0.5766988396644592)]]"
      ]
     },
     "execution_count": 15,
     "metadata": {},
     "output_type": "execute_result"
    }
   ],
   "source": [
    "#Using model to find 5 closest words in similarity to target word\n",
    "word3 = \"police\"\n",
    "similarities = []\n",
    "\n",
    "for model, name in zip(models, model_names):\n",
    "    similarities.append(name)\n",
    "    similarities.append(model.wv.most_similar(word3, topn=5))\n",
    "similarities"
   ]
  }
 ],
 "metadata": {
  "kernelspec": {
   "display_name": "Python 3",
   "language": "python",
   "name": "python3"
  },
  "language_info": {
   "codemirror_mode": {
    "name": "ipython",
    "version": 3
   },
   "file_extension": ".py",
   "mimetype": "text/x-python",
   "name": "python",
   "nbconvert_exporter": "python",
   "pygments_lexer": "ipython3",
   "version": "3.8.5"
  }
 },
 "nbformat": 4,
 "nbformat_minor": 4
}
